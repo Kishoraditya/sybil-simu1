{
 "cells": [
  {
   "attachments": {},
   "cell_type": "markdown",
   "metadata": {},
   "source": [
    "Cadcad"
   ]
  },
  {
   "cell_type": "code",
   "execution_count": 33,
   "metadata": {},
   "outputs": [],
   "source": [
    "import cadCAD\n",
    "import numpy as np\n",
    "import random"
   ]
  },
  {
   "cell_type": "code",
   "execution_count": 34,
   "metadata": {},
   "outputs": [],
   "source": [
    "max_players = 50\n",
    "min_players = 20\n",
    "max_users_per_player = 20\n",
    "min_users_per_player = 1\n",
    "max_stamps_per_user = 80\n",
    "stamp_cost_range = (0, 1000)\n",
    "player_funds = 10000\n",
    "grant_pool = 100000\n",
    "max_grants = 20\n",
    "min_grants = 5"
   ]
  },
  {
   "cell_type": "code",
   "execution_count": 35,
   "metadata": {},
   "outputs": [],
   "source": [
    "# Initialize the system\n",
    "initial_conditions = {\n",
    "    'players': [], \n",
    "    'users': [], \n",
    "    'identities': [], \n",
    "    'grants': [], \n",
    "    'player_funds': player_funds, \n",
    "    'grant_pool': grant_pool, \n",
    "    'allocated_funds': 0, \n",
    "    'matching_funds': 0,\n",
    "    'total_unique_donors': 0\n",
    "    }\n",
    "\n"
   ]
  },
  {
   "cell_type": "code",
   "execution_count": 36,
   "metadata": {},
   "outputs": [],
   "source": [
    "# # Set the number of players and users\n",
    "# num_players = 50\n",
    "# num_users = 50"
   ]
  },
  {
   "cell_type": "code",
   "execution_count": 37,
   "metadata": {},
   "outputs": [],
   "source": [
    "# Initialize the lists of players, users, and identities\n",
    "players = []\n",
    "users = []\n",
    "identities = []"
   ]
  },
  {
   "cell_type": "code",
   "execution_count": 38,
   "metadata": {},
   "outputs": [
    {
     "name": "stdout",
     "output_type": "stream",
     "text": [
      "49\n",
      "{'id': 48, 'player_funds': 10000, 'users': []}\n",
      "[]\n"
     ]
    }
   ],
   "source": [
    "# Create the players and add them to the list\n",
    "num_players =random.randint(min_players, max_players)\n",
    "\n",
    "for i in range(num_players):\n",
    "    player = {'id': i, 'player_funds':player_funds, 'users': []}\n",
    "    players.append(player)\n",
    "print(num_players)\n",
    "#print(players)\n",
    "print(player)\n",
    "print(users)"
   ]
  },
  {
   "cell_type": "code",
   "execution_count": 39,
   "metadata": {},
   "outputs": [
    {
     "name": "stdout",
     "output_type": "stream",
     "text": [
      "370\n"
     ]
    }
   ],
   "source": [
    "\n",
    "# Create the users and add them to the appropriate lists\n",
    "num_users=random.randint(1,20*num_players)\n",
    "#usersL = list(users)\n",
    "for i in range(num_users):\n",
    "    user = {'id': i, 'player_id': random.randint(0, num_players-1),'identities' : [],'grant': [], 'sybil_coefficient':0}\n",
    "    #print(user)\n",
    "    users.append(user)\n",
    "    #usersL.append(user)\n",
    "    #users = users + user\n",
    "    player = [p for p in players if p['id'] == user['player_id']][0]\n",
    "    player['users'].append(user)\n",
    "    #player['usersL'].append(user)\n",
    "    #player['users'] = player['users'] + users\n",
    "    \n",
    "\n",
    "\n",
    "#print(users)\n",
    "print(len(users))\n",
    "#print(players)"
   ]
  },
  {
   "cell_type": "code",
   "execution_count": 40,
   "metadata": {},
   "outputs": [
    {
     "name": "stdout",
     "output_type": "stream",
     "text": [
      "[5, 7, 7, 4, 10, 8, 5, 15, 19, 7, 5, 4, 4, 9, 2, 16, 4, 12, 8, 7, 9, 4, 7, 8, 7, 4, 7, 8, 11, 4, 3, 9, 4, 6, 6, 6, 6, 6, 7, 13, 7, 13, 7, 11, 9, 7, 10, 4, 9]\n"
     ]
    }
   ],
   "source": [
    "noofusers = []\n",
    "\n",
    "for p in players:\n",
    "    noofusers.append(len(p['users']))\n",
    "\n",
    "print(noofusers)\n"
   ]
  },
  {
   "cell_type": "code",
   "execution_count": 41,
   "metadata": {},
   "outputs": [],
   "source": [
    "# Create the identities and add them to the appropriate lists\n",
    "# num_identities = random.randint(0, 50)\n",
    "# for j in range(num_identities):\n",
    "#     identity = {'user_id': user['id'], 'trust_score': random.randint(0, 1000)/100}\n",
    "#     identities.append(identity)\n",
    "    \n",
    "# for i in range(num_players):\n",
    "#     for j in range(len(users)):\n",
    "\n",
    "# for p in players:\n",
    "#     for u in p['users']:\n",
    "#         num_identities = random.randint(0,50)\n",
    "#         u[identities]= str([random.randint(1,1000) for _ in range(num_identities)])\n",
    "\n",
    "\n",
    "for p in players:\n",
    "    for u in p['users']:\n",
    "        num_identities = random.randint(1, 50)\n",
    "        u['identities']=[]\n",
    "        #u['identities'] = len(identities)\n",
    "        #identities.extend([{'user_id': u['id'], 'cost': random.randint(0, 1000), 'trust_score': random.randint(0, 100)} for _ in range(num_identities)])\n",
    "        #identities.extend([random.randint(1, 1000) for _ in range(num_identities)])\n",
    "        temp = random.randint(0, 1000)\n",
    "        identity = {'id': u, 'user_id': random.randint(0, num_users-1),'cost': temp, 'trust_score': temp/100}\n",
    "        #print(user)\n",
    "        identities.append(identity)\n",
    "        #usersL.append(user)\n",
    "        #users = users + user\n",
    "        #player = [p for p in players if u['id'] == user['user_id']][0]\n",
    "        #player['users'].append(user)\n",
    "        for i in identities:\n",
    "            if i['user_id'] == u['id']:\n",
    "                u['identities'].append(i)\n",
    "\n",
    "    "
   ]
  },
  {
   "cell_type": "code",
   "execution_count": 42,
   "metadata": {},
   "outputs": [],
   "source": [
    "# # Generate a list of 100 stamps with random costs and trust scores\n",
    "# identities = [{'cost': random.randint(0, 1000), 'trust_score': random.randint(0, 100)} for _ in range(100)]"
   ]
  },
  {
   "cell_type": "code",
   "execution_count": 43,
   "metadata": {},
   "outputs": [],
   "source": [
    "# # Generate a list of 20 grants with random donations from random users\n",
    "# grants = [{'donations': [{'user_id': random.randint(1, num_users), 'amount': random.uniform(0, 1000)} for _ in range(random.randint(1, num_users))], 'allocated_funds': 0, 'matching_funds': 0, 'total_unique_donors': 0} for _ in range(20)]\n",
    "grants = []\n",
    "for i in range(20):\n",
    "    grant = {'id': i, 'donations': [{'user_id': random.randint(1, num_users), 'amount': random.uniform(0, 1000)} for _ in range(random.randint(1, num_identities))], 'allocated_funds': 0, 'matching_funds': 0, 'total_unique_donors': 0}\n",
    "    grants.append(grant)\n"
   ]
  },
  {
   "cell_type": "code",
   "execution_count": 44,
   "metadata": {},
   "outputs": [],
   "source": [
    "# Iterate through the grants list\n",
    "for grant in grants:\n",
    "    # Get the user_id of the grant's donations\n",
    "    user_id = grant['donations'][0]['user_id']\n",
    "    # Iterate through the players list\n",
    "    for player in players:\n",
    "        # Iterate through the player's users\n",
    "        for user in player['users']:\n",
    "            # If the user's id matches the grant's user_id, assign the grant to the user\n",
    "            if user['id'] == user_id:\n",
    "                user['grant'] = grant\n"
   ]
  },
  {
   "cell_type": "code",
   "execution_count": 45,
   "metadata": {},
   "outputs": [],
   "source": [
    "# Actions\n",
    "#actions = []\n",
    "#user['grant'] = None\n",
    "#user['sybil_coefficient'] = None\n",
    "\n",
    "# # Create players\n",
    "# for i in range(max_players):\n",
    "#     player = {'id': i, 'users': [], 'player_funds': player_funds}\n",
    "#     # Create users for each player\n",
    "#     for j in range(max_users_per_player):\n",
    "#         user = {'id': j, 'player_id': i, 'identities': [], 'grant': None, 'sybil_coefficient': 0}\n",
    "#         player['users'].append(user)\n",
    "#         # Create identities for each user\n",
    "#         for k in range(max_stamps_per_user):\n",
    "#             stamp_cost = np.random.randint(*stamp_cost_range)\n",
    "#             trust_score = stamp_cost / 100\n",
    "#             identity= {'id': k, 'user_id': j, 'player_id': i, 'stamp_cost': stamp_cost, 'trust_score': trust_score}\n",
    "# user['identities'].append(identity)\n",
    "# initial_conditions['players'].append(player)\n",
    "\n",
    "\n"
   ]
  },
  {
   "cell_type": "code",
   "execution_count": 46,
   "metadata": {},
   "outputs": [],
   "source": [
    "\n",
    "def update(params, step, sL, s, users, grant):\n",
    "    # Unpack system variables\n",
    "    players = s['players']\n",
    "    identities = s['identities']\n",
    "    grants = s['grants']\n",
    "    player_funds = s['player_funds']\n",
    "    grant_pool = s['grant_pool']\n",
    "    allocated_funds = s['allocated_funds']\n",
    "    matching_funds = s['matching_funds']\n",
    "    \n"
   ]
  },
  {
   "cell_type": "code",
   "execution_count": 47,
   "metadata": {},
   "outputs": [],
   "source": [
    "# Calculate sybil coefficient for each user\n",
    "for user in users:\n",
    "    user_identities = [i for i in identities if i['user_id'] == user['id']]\n",
    "    user['sybil_coefficient'] = 0\n",
    "    user['sybil_coefficient'] = sum(i['trust_score'] for i in user_identities)"
   ]
  },
  {
   "cell_type": "code",
   "execution_count": 48,
   "metadata": {},
   "outputs": [],
   "source": [
    "# Check if user should be squelched\n",
    "player = [p for p in players if p['id'] == user['player_id']][0]\n",
    "if len(user_identities) < 10 or user['sybil_coefficient'] < 20:\n",
    "    user['sybil_coefficient'] = 0\n",
    "    if len(player['users']) > 1:\n",
    "        probability_of_squelch = 0.8\n",
    "    else:\n",
    "        probability_of_squelch = 0.2\n",
    "    if np.random.rand() < probability_of_squelch:\n",
    "        user['sybil_coefficient'] = 0"
   ]
  },
  {
   "cell_type": "code",
   "execution_count": 49,
   "metadata": {},
   "outputs": [],
   "source": [
    "# Define the update function\n",
    "#def update(params, step, sL, s, users):\n",
    "# Unpack system variables\n",
    "#    players = s['players']\n",
    "#    #users = s['users']\n",
    "#    identities = s['identities']\n",
    "#    grants = s['grants']\n",
    "#    player_funds = s['player_funds']\n",
    "#    grant_pool = s['grant_pool']\n",
    "#    allocated_funds = s['allocated_funds']\n",
    "#    matching_funds = s['matching_funds']\n"
   ]
  },
  {
   "cell_type": "code",
   "execution_count": 50,
   "metadata": {},
   "outputs": [],
   "source": [
    "# # Calculate sybil coefficient for each user\n",
    "\n",
    "# for user in users:\n",
    "#     user_identities = [i for i in identities if i['user_id'] == user['id']]\n",
    "#     user['sybil_coefficient'] = sum(i['trust_score'] for i in user_identities)\n",
    "    \n",
    "#     # Check if user should be squelched\n",
    "#     player = [p for p in players if p['id'] == user['player_id']][0]\n",
    "#     if len(user_identities) < 10 or user['sybil_coefficient'] < 20:\n",
    "#         user['sybil_coefficient'] = 0\n",
    "#         if len(player['users']) > 1:\n",
    "#             probability_of_squelch = 0.8\n",
    "#         else:\n",
    "#             probability_of_squelch = 0.2\n",
    "#         if np.random.rand() < probability_of_squelch:\n",
    "#             user['sybil_coefficient'] = 0"
   ]
  },
  {
   "cell_type": "code",
   "execution_count": 51,
   "metadata": {},
   "outputs": [],
   "source": [
    "# # Check if any new grants should be created\n",
    "# #grant = user.get('grant', None)\n",
    "\n",
    "# for player in players:\n",
    "#     for user in player['users']:\n",
    "#         if user['grant'] is None and user['sybil_coefficient'] is not None and user['sybil_coefficient'] > 0 and len(grants) < max_grants:\n",
    "#         #if user['grant'] is None and user['sybil_coefficient'] > 0 and len(grants) < max_grants:\n",
    "#             grant = {'id': len(grants), 'user_id': user['id'], 'player_id': player['id'], 'donors': [], 'allocated_funds': 0, 'matching_funds': 0, 'total_unique_donors': 0 }\n",
    "#             grants.append(grant)\n",
    "# #user['grant'] = grant"
   ]
  },
  {
   "cell_type": "code",
   "execution_count": 52,
   "metadata": {},
   "outputs": [],
   "source": [
    "\n",
    "# #Accept donations to grants\n",
    "# for player in players:\n",
    "#     for user in player['users']:\n",
    "#         if user['sybil_coefficient'] > 0 and user['grant'] is not None:\n",
    "#             grant = user['grant']\n",
    "#             if grant is not None:\n",
    "#                 donation_amount = np.random.randint(0, player_funds[player['id']]+1)\n",
    "#                 player_funds[player['id']] -= donation_amount\n",
    "#                 grant['allocated_funds'] += donation_amount * np.sqrt(user['sybil_coefficient'])\n",
    "#                 grant['total_unique_donors'] += 1\n",
    "#                 if 'allocated_funds' not in grant:\n",
    "#                     grant['allocated_funds'] = 0\n",
    "                "
   ]
  },
  {
   "cell_type": "code",
   "execution_count": 53,
   "metadata": {},
   "outputs": [],
   "source": [
    "# Accept donations to grants\n",
    "for player in players:\n",
    "    for user in player['users']:\n",
    "        #grant = user['grant']\n",
    "        if user['sybil_coefficient'] > 0 and user['grant'] is not None:\n",
    "            donation_amount = np.random.randint(0, player_funds+1)\n",
    "            player_funds -= donation_amount\n",
    "        # grant['allocated_funds'] += donation_amount * np.sqrt(user['sybil_coefficient'])\n",
    "        # grant['total_unique_donors'] += 1\n"
   ]
  },
  {
   "cell_type": "code",
   "execution_count": 54,
   "metadata": {},
   "outputs": [
    {
     "name": "stdout",
     "output_type": "stream",
     "text": [
      "{'id': 19, 'donations': [{'user_id': 81, 'amount': 979.3752412117831}, {'user_id': 63, 'amount': 226.91482674086316}, {'user_id': 245, 'amount': 785.2174698815509}, {'user_id': 328, 'amount': 642.5100128985589}, {'user_id': 85, 'amount': 124.54735630732682}, {'user_id': 237, 'amount': 59.99681866374462}, {'user_id': 254, 'amount': 777.7552908663689}, {'user_id': 250, 'amount': 16.21098276313915}, {'user_id': 68, 'amount': 597.2033162112891}, {'user_id': 184, 'amount': 666.5625313400116}, {'user_id': 362, 'amount': 806.9929983602483}, {'user_id': 60, 'amount': 767.1112628868466}, {'user_id': 89, 'amount': 364.4201712473901}, {'user_id': 312, 'amount': 330.72697377834646}, {'user_id': 25, 'amount': 978.2809232692424}, {'user_id': 5, 'amount': 251.21664179039104}, {'user_id': 307, 'amount': 384.1854004056173}, {'user_id': 290, 'amount': 874.8735336793058}, {'user_id': 299, 'amount': 288.2360998921372}, {'user_id': 248, 'amount': 408.0911942107336}, {'user_id': 97, 'amount': 585.7729556234409}, {'user_id': 329, 'amount': 946.6919016944403}, {'user_id': 342, 'amount': 398.5489656563719}, {'user_id': 159, 'amount': 802.2834141527425}, {'user_id': 342, 'amount': 495.2402029627235}, {'user_id': 256, 'amount': 164.52497716608394}, {'user_id': 103, 'amount': 652.0217643028184}], 'allocated_funds': 0, 'matching_funds': 0, 'total_unique_donors': 0}\n"
     ]
    }
   ],
   "source": [
    "print(grant)"
   ]
  },
  {
   "cell_type": "code",
   "execution_count": 55,
   "metadata": {},
   "outputs": [
    {
     "name": "stdout",
     "output_type": "stream",
     "text": [
      "{'id': 19, 'donations': [{'user_id': 81, 'amount': 979.3752412117831}, {'user_id': 63, 'amount': 226.91482674086316}, {'user_id': 245, 'amount': 785.2174698815509}, {'user_id': 328, 'amount': 642.5100128985589}, {'user_id': 85, 'amount': 124.54735630732682}, {'user_id': 237, 'amount': 59.99681866374462}, {'user_id': 254, 'amount': 777.7552908663689}, {'user_id': 250, 'amount': 16.21098276313915}, {'user_id': 68, 'amount': 597.2033162112891}, {'user_id': 184, 'amount': 666.5625313400116}, {'user_id': 362, 'amount': 806.9929983602483}, {'user_id': 60, 'amount': 767.1112628868466}, {'user_id': 89, 'amount': 364.4201712473901}, {'user_id': 312, 'amount': 330.72697377834646}, {'user_id': 25, 'amount': 978.2809232692424}, {'user_id': 5, 'amount': 251.21664179039104}, {'user_id': 307, 'amount': 384.1854004056173}, {'user_id': 290, 'amount': 874.8735336793058}, {'user_id': 299, 'amount': 288.2360998921372}, {'user_id': 248, 'amount': 408.0911942107336}, {'user_id': 97, 'amount': 585.7729556234409}, {'user_id': 329, 'amount': 946.6919016944403}, {'user_id': 342, 'amount': 398.5489656563719}, {'user_id': 159, 'amount': 802.2834141527425}, {'user_id': 342, 'amount': 495.2402029627235}, {'user_id': 256, 'amount': 164.52497716608394}, {'user_id': 103, 'amount': 652.0217643028184}], 'allocated_funds': 0, 'matching_funds': 0, 'total_unique_donors': 27, 'total_donated': 14375.513227963515}\n"
     ]
    }
   ],
   "source": [
    "for grant in grants:\n",
    "    total_donated = 0\n",
    "    for donation in grant['donations']:\n",
    "        total_donated += donation['amount']\n",
    "        grant['total_unique_donors'] += 1\n",
    "    grant['total_donated'] = total_donated\n",
    "    \n",
    "\n",
    "print(grant)\n"
   ]
  },
  {
   "cell_type": "code",
   "execution_count": 56,
   "metadata": {},
   "outputs": [
    {
     "name": "stdout",
     "output_type": "stream",
     "text": [
      "{'id': 19, 'donations': [{'user_id': 81, 'amount': 979.3752412117831}, {'user_id': 63, 'amount': 226.91482674086316}, {'user_id': 245, 'amount': 785.2174698815509}, {'user_id': 328, 'amount': 642.5100128985589}, {'user_id': 85, 'amount': 124.54735630732682}, {'user_id': 237, 'amount': 59.99681866374462}, {'user_id': 254, 'amount': 777.7552908663689}, {'user_id': 250, 'amount': 16.21098276313915}, {'user_id': 68, 'amount': 597.2033162112891}, {'user_id': 184, 'amount': 666.5625313400116}, {'user_id': 362, 'amount': 806.9929983602483}, {'user_id': 60, 'amount': 767.1112628868466}, {'user_id': 89, 'amount': 364.4201712473901}, {'user_id': 312, 'amount': 330.72697377834646}, {'user_id': 25, 'amount': 978.2809232692424}, {'user_id': 5, 'amount': 251.21664179039104}, {'user_id': 307, 'amount': 384.1854004056173}, {'user_id': 290, 'amount': 874.8735336793058}, {'user_id': 299, 'amount': 288.2360998921372}, {'user_id': 248, 'amount': 408.0911942107336}, {'user_id': 97, 'amount': 585.7729556234409}, {'user_id': 329, 'amount': 946.6919016944403}, {'user_id': 342, 'amount': 398.5489656563719}, {'user_id': 159, 'amount': 802.2834141527425}, {'user_id': 342, 'amount': 495.2402029627235}, {'user_id': 256, 'amount': 164.52497716608394}, {'user_id': 103, 'amount': 652.0217643028184}], 'allocated_funds': 587866.2427610738, 'matching_funds': 0, 'total_unique_donors': 27, 'total_donated': 14375.513227963515}\n"
     ]
    }
   ],
   "source": [
    "# Find the grant with the matching id\n",
    "for grant in grants:\n",
    "        for donation in grant['donations']:\n",
    "                temp += donation['amount']* np.sqrt(user['sybil_coefficient'])\n",
    "        grant['allocated_funds'] += temp\n",
    "\n",
    "print(grant)"
   ]
  },
  {
   "cell_type": "code",
   "execution_count": 57,
   "metadata": {},
   "outputs": [],
   "source": [
    "# #Accept donations to grants\n",
    "# for player in players:\n",
    "#     for user in player['users']:\n",
    "#         grant = user['grant']\n",
    "#         if user['sybil_coefficient'] > 0 and user['grant'] is not None:\n",
    "#             donation_amount = np.random.randint(0, player_funds[player['id']]+1)\n",
    "#             player_funds[player['id']] -= donation_amount\n",
    "#         grant['allocated_funds'] += donation_amount * np.sqrt(user['sybil_coefficient'])\n",
    "#         grant['total_unique_donors'] += 1\n"
   ]
  },
  {
   "cell_type": "code",
   "execution_count": 58,
   "metadata": {},
   "outputs": [],
   "source": [
    "# #Accept donations to grants\n",
    "# for player in players:\n",
    "#     for user in player['users']:\n",
    "#         if user['sybil_coefficient'] > 0 and user['grant'] is not None:\n",
    "#             grant = user['grant']\n",
    "# donation_amount = np.random.randint(0, player_funds+1)\n",
    "# player_funds -= donation_amount\n",
    "# grant['allocated_funds'] += donation_amount * np.sqrt(user['sybil_coefficient'])\n",
    "# grant['total_unique_donors'] += 1"
   ]
  },
  {
   "cell_type": "code",
   "execution_count": 59,
   "metadata": {},
   "outputs": [],
   "source": [
    "# #Accept donations to grants\n",
    "# for player in players:\n",
    "#     for user in player['users']:\n",
    "#         if user['sybil_coefficient'] > 0 and user['grant'] is not None:\n",
    "#             grant = user['grant']\n",
    "# donation_amount = np.random.randint(0, player_funds[player['id']]+1)\n",
    "# player_funds[player['id']] -= donation_amount\n",
    "# grant['allocated_funds'] += donation_amount * np.sqrt(user['sybil_coefficient'])\n",
    "# grant['total_unique_donors'] += 1"
   ]
  },
  {
   "cell_type": "code",
   "execution_count": 60,
   "metadata": {},
   "outputs": [],
   "source": [
    "# Calculate matching funds for each grant\n",
    "for grant in grants:\n",
    "    grant['matching_funds'] = grant_pool * (grant['allocated_funds'] / sum(g['allocated_funds'] for g in grants))\n"
   ]
  },
  {
   "cell_type": "code",
   "execution_count": 61,
   "metadata": {},
   "outputs": [],
   "source": [
    "# #Calculate matching funds for each grant\n",
    "# for grant in grants:\n",
    "#     grant['matching_funds'] = grant_pool * (grant['allocated_funds'] / sum(g['allocated_funds'] for g in grants))"
   ]
  },
  {
   "cell_type": "code",
   "execution_count": 62,
   "metadata": {},
   "outputs": [],
   "source": [
    "for player in players:\n",
    "    for user in player['users']:\n",
    "        if user['grant'] is not None:\n",
    "            player_funds += grant['matching_funds']*0.5\n",
    "            #user[grant]=None\n",
    "# for donor_player in players:\n",
    "#     for donor_user in donor_player['users']:\n",
    "#         if donor_user['grant'] == grant[id]:\n",
    "#             player_funds += grant['matching_funds']*0.5\n",
    "# grant_pool -= grant['matching_funds']"
   ]
  },
  {
   "cell_type": "code",
   "execution_count": 63,
   "metadata": {},
   "outputs": [],
   "source": [
    "# player_funds = {player['id']: player_funds for player in players}\n",
    "# #Distribute rewards to players\n",
    "# for player in players:\n",
    "#     for user in player['users']:\n",
    "#         if user['grant'] is not None:\n",
    "#             grant = user['grant']\n",
    "#     player_funds += grant['matching_funds'] * 0.5\n",
    "# user['grant'] = None\n",
    "# # Distribute remaining matching funds to donors\n",
    "# for donor_player in players:\n",
    "#     for donor_user in donor_player['users']:\n",
    "#         if donor_user['grant'] == grant['id']:\n",
    "#             donor_player['funds'] += grant['matching_funds'] * 0.5 * donor_user['sybil_coefficient'] / grant['allocated_funds']\n",
    "# grant_pool -= grant['matching_funds']\n",
    "\n"
   ]
  },
  {
   "cell_type": "code",
   "execution_count": 64,
   "metadata": {},
   "outputs": [
    {
     "name": "stdout",
     "output_type": "stream",
     "text": [
      "\n",
      "Grants:\n",
      "Grant 0: Matching funds = 752.5125125115131, Total unique donors = 30\n",
      "Grant 1: Matching funds = 1404.106713149628, Total unique donors = 26\n",
      "Grant 2: Matching funds = 1773.1540339082028, Total unique donors = 14\n",
      "Grant 3: Matching funds = 2550.552673635462, Total unique donors = 36\n",
      "Grant 4: Matching funds = 3007.824339820885, Total unique donors = 18\n",
      "Grant 5: Matching funds = 3271.424329847616, Total unique donors = 12\n",
      "Grant 6: Matching funds = 3935.681991487927, Total unique donors = 26\n",
      "Grant 7: Matching funds = 4132.860966550799, Total unique donors = 9\n",
      "Grant 8: Matching funds = 4279.827646820234, Total unique donors = 5\n",
      "Grant 9: Matching funds = 4348.14579621245, Total unique donors = 2\n",
      "Grant 10: Matching funds = 4909.388150635348, Total unique donors = 24\n",
      "Grant 11: Matching funds = 5638.997368670273, Total unique donors = 31\n",
      "Grant 12: Matching funds = 6102.715602207763, Total unique donors = 20\n",
      "Grant 13: Matching funds = 6590.000110089182, Total unique donors = 22\n",
      "Grant 14: Matching funds = 6649.078232988447, Total unique donors = 3\n",
      "Grant 15: Matching funds = 7101.010681018467, Total unique donors = 23\n",
      "Grant 16: Matching funds = 7713.231649392588, Total unique donors = 31\n",
      "Grant 17: Matching funds = 8349.6923917385, Total unique donors = 25\n",
      "Grant 18: Matching funds = 8415.582229343774, Total unique donors = 2\n",
      "Grant 19: Matching funds = 9074.212579970936, Total unique donors = 27\n"
     ]
    }
   ],
   "source": [
    "#Print final results\n",
    "print()\n",
    "print(\"Grants:\")\n",
    "for grant in grants:\n",
    "    print(f\"Grant {grant['id']}: Matching funds = {grant['matching_funds']}, Total unique donors = {grant['total_unique_donors']}\")\n",
    "# print(\"\\nPlayers:\")\n",
    "# for player in players:\n",
    "#     print(f\"Player {player['id']}: Funds = {player_funds[player['id']]}, Sybil coefficient = {player['sybil_coefficient']}\")\n",
    "    \n"
   ]
  }
 ],
 "metadata": {
  "kernelspec": {
   "display_name": "Python 3",
   "language": "python",
   "name": "python3"
  },
  "language_info": {
   "codemirror_mode": {
    "name": "ipython",
    "version": 3
   },
   "file_extension": ".py",
   "mimetype": "text/x-python",
   "name": "python",
   "nbconvert_exporter": "python",
   "pygments_lexer": "ipython3",
   "version": "3.9.7 (tags/v3.9.7:1016ef3, Aug 30 2021, 20:19:38) [MSC v.1929 64 bit (AMD64)]"
  },
  "orig_nbformat": 4,
  "vscode": {
   "interpreter": {
    "hash": "81794d4967e6c3204c66dcd87b604927b115b27c00565d3d43f05ba2f3a2cb0d"
   }
  }
 },
 "nbformat": 4,
 "nbformat_minor": 2
}
